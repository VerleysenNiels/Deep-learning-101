{
 "cells": [
  {
   "cell_type": "markdown",
   "metadata": {},
   "source": [
    "# Deep Learning 101\n",
    "Deep learning is one of the most impactful technologies of the past few years and will continue to be of huge importance for our technological advancement. It's therefore important to have a good understanding of the basics before tackling more complex problems with existing libraries like Tensorflow or Pytorch. However, a lot of people still make wrong assumptions about what deep learning is or just see it as some kind of black magic. To help remedy this I wrote a series of blogs together with this repository. This notebook follows along with the blogs, explaining step by step what is going on.\n",
    "\n",
    "The blogs on medium:\n",
    "- Part 1 discusses the basics and the forward pass:  TBD\n",
    "- Part 2 discusses backpropagation:  TBD\n",
    "- Part 3 goes over several techniques to improve the learning ability of a network:  TBD\n",
    "\n",
    "This notebook handles the contents of the third blog."
   ]
  },
  {
   "cell_type": "code",
   "execution_count": 1,
   "metadata": {},
   "outputs": [],
   "source": [
    "# To make our lives a bit easier, I'll be using numpy \n",
    "import numpy as np\n",
    "\n",
    "# Later on we will also be creating some plots to visualize our results.\n",
    "import matplotlib.pyplot as plt"
   ]
  },
  {
   "cell_type": "markdown",
   "metadata": {},
   "source": [
    "## Recap from the previous blog"
   ]
  },
  {
   "cell_type": "code",
   "execution_count": 54,
   "metadata": {},
   "outputs": [],
   "source": [
    "# Activations\n",
    "class ReLU:\n",
    "    def forward(self, inputs):\n",
    "        \"\"\"Forward pass of the activation function\"\"\"\n",
    "        self.inputs = inputs\n",
    "        self.output = np.maximum(0, self.inputs)\n",
    "        return self.output\n",
    "    \n",
    "    def derivative_activation(self):\n",
    "        \"\"\"Backward pass of the activation function\"\"\"\n",
    "        return self.inputs > 0\n",
    "    \n",
    "class Sigmoid:\n",
    "    def forward(self, inputs):\n",
    "        \"\"\"Forward pass of the activation function\"\"\"\n",
    "        self.inputs = inputs\n",
    "        self.output = 1 / (1 + np.exp(-self.inputs))\n",
    "        return self.output\n",
    "    \n",
    "    def derivative_activation(self):\n",
    "        \"\"\"Backward pass of the activation function\"\"\"\n",
    "        return self.output * (1 - self.output)\n",
    "    \n",
    "class Tanh:\n",
    "    def forward(self, inputs):\n",
    "        \"\"\"Forward pass of the activation function\"\"\"\n",
    "        self.inputs = inputs\n",
    "        self.output = np.tanh(self.inputs)\n",
    "        return self.output\n",
    "    \n",
    "    def derivative_activation(self):\n",
    "        \"\"\"Backward pass of the activation function\"\"\"\n",
    "        return 1 - self.output ** 2\n",
    "\n",
    "# Layer\n",
    "class Dense:\n",
    "    def __init__(self, input_size, output_size):\n",
    "        \"\"\"Constructor of a single fully connected layer\n",
    "\n",
    "        Args:\n",
    "            input_size (int): number of inputs to this layer\n",
    "            output_size (int): number of neurons in this layer, which is equivalent to the number of outputs\n",
    "        \"\"\"\n",
    "        self.input_size = input_size\n",
    "        self.output_size = output_size\n",
    "        \n",
    "        # Create our matrix with weights and biases for the layer\n",
    "        self.weights = np.random.randn(output_size, input_size)\n",
    "        self.biases = np.zeros(output_size)\n",
    "        \n",
    "    def forward(self, inputs):\n",
    "        \"\"\"Forward pass of the layer\"\"\"\n",
    "        self.inputs = inputs\n",
    "        self.output = np.dot(self.inputs, self.weights.T) + self.biases\n",
    "        return self.output\n",
    "    \n",
    "    def update_gradients(self, gradients):\n",
    "        \"\"\"Update the gradients of the layer\"\"\"\n",
    "        self.gradients = gradients\n",
    "        \n",
    "    def optimize(self, learning_rate):\n",
    "        \"\"\"Optimize the weights by taking a step in the direction of the gradients\"\"\"\n",
    "        self.weights -= learning_rate * (np.dot(self.gradients.T, self.inputs) / self.input_size)\n",
    "        self.biases -= learning_rate * np.mean(self.gradients, axis=0)\n",
    "        \n",
    "# Network\n",
    "class Network:\n",
    "    def __init__(self, layers, activations, learning_rate):\n",
    "        \"\"\"Constructor of a neural network\n",
    "        \n",
    "        Args:\n",
    "            layers (list): list of integers, each integer corresponds to the number of neurons in a layer\n",
    "            activations (list): list of activation functions, each activation function corresponds to a layer\n",
    "        \"\"\"\n",
    "        self.layers = layers\n",
    "        self.activations = activations\n",
    "        self.learning_rate = learning_rate\n",
    "        \n",
    "    def forward(self, inputs):\n",
    "        \"\"\"Forward pass of the network\"\"\"\n",
    "        self.inputs = inputs\n",
    "        for i in range(len(self.layers)):\n",
    "            self.inputs = self.activations[i].forward(self.layers[i].forward(self.inputs))\n",
    "        return self.inputs\n",
    "    \n",
    "    def backward(self, loss):\n",
    "        \"\"\"Backward pass of the network\"\"\"\n",
    "        self.gradients = loss * self.activations[-1].derivative_activation()   # dZ = dA * act'(Z)\n",
    "        self.layers[-1].update_gradients(self.gradients)\n",
    "        \n",
    "        for i in range(len(self.layers) - 2, -1, -1):\n",
    "            self.gradients = np.dot(self.gradients, self.layers[i+1].weights)  # dA = dZ dot W\n",
    "            self.gradients = self.gradients * self.activations[i].derivative_activation() # dZ = dA * act'(Z)\n",
    "            self.layers[i].update_gradients(self.gradients)             \n",
    "\n",
    "    def optimize(self):\n",
    "        \"\"\"Optimize the network\"\"\"\n",
    "        for layer in self.layers:\n",
    "            layer.optimize(self.learning_rate)"
   ]
  },
  {
   "cell_type": "markdown",
   "metadata": {},
   "source": [
    "## Minibatches\n",
    "In our previous implementations we only did a gradient step after passing through the whole dataset. This makes the learning process very slow, especially in practice where the datasets can be a lot larger and the models are more complex. In practice we therefore use minibatches, which are subsets of the dataset. After passing through each minibatch we do a backward pass and update the weights, this way multiple backward passes can be done in a single epoch. Let's try this out."
   ]
  },
  {
   "cell_type": "code",
   "execution_count": 25,
   "metadata": {},
   "outputs": [],
   "source": [
    "def function_to_model(input):\n",
    "    if input < -50:\n",
    "        return 0\n",
    "    elif input < 0:\n",
    "        return (input + 50) / 50\n",
    "    elif input < 50:\n",
    "        return 1\n",
    "    else:\n",
    "        return (50 - input) / 50 + 1\n",
    "\n",
    "x_train = np.linspace(-100, 100, 1000).reshape(-1, 1)\n",
    "y_train = np.fromiter((function_to_model(x) for x in x_train), dtype=x_train.dtype).reshape(-1, 1)\n",
    "\n",
    "train_indices = np.arange(0, len(x_train))\n",
    "\n",
    "x_test = np.linspace(-95, 95, 200).reshape(-1, 1)\n",
    "y_test = np.fromiter((function_to_model(x) for x in x_test), dtype=x_test.dtype).reshape(-1, 1)"
   ]
  },
  {
   "cell_type": "code",
   "execution_count": 26,
   "metadata": {},
   "outputs": [],
   "source": [
    "def rmse(y_true, y_pred):\n",
    "    return np.sqrt(np.mean((y_true - y_pred) ** 2))"
   ]
  },
  {
   "cell_type": "code",
   "execution_count": 32,
   "metadata": {},
   "outputs": [
    {
     "name": "stdout",
     "output_type": "stream",
     "text": [
      "0.05669600113141907\n"
     ]
    },
    {
     "data": {
      "image/png": "[encoded data removed]",
      "text/plain": [
       "<Figure size 432x288 with 1 Axes>"
      ]
     },
     "metadata": {
      "needs_background": "light"
     },
     "output_type": "display_data"
    }
   ],
   "source": [
    "network = Network([Dense(1, 32), Dense(32, 32), Dense(32, 16), Dense(16, 16), Dense(16, 1)], [Sigmoid(), Sigmoid(), Sigmoid(), Sigmoid(), Tanh()], 0.0001)\n",
    "\n",
    "losses = []\n",
    "\n",
    "for epoch in range(25000):\n",
    "    # Keep track of the training batch losses\n",
    "    batch_losses = []\n",
    "    \n",
    "    # Batches should be random    \n",
    "    np.random.shuffle(train_indices)\n",
    "    \n",
    "    # Loop through the training data in minibatches of size 200\n",
    "    for batch in range(len(x_train) // 100):\n",
    "        batch_indices = train_indices[batch * 100:(batch + 1) * 100]\n",
    "        x_train_batch = x_train[batch_indices]\n",
    "        y_train_batch = y_train[batch_indices]\n",
    "        \n",
    "        y_pred_batch = network.forward(x_train_batch)\n",
    "        batch_losses.append(rmse(y_pred_batch, y_train_batch))\n",
    "        network.backward(y_pred_batch - y_train_batch)\n",
    "        network.optimize()\n",
    "    \n",
    "    losses.append(np.mean(np.array(batch_losses)))\n",
    "\n",
    "plt.plot(losses)\n",
    "plt.ylabel('RMSE')\n",
    "plt.xlabel('Epoch')\n",
    "\n",
    "# Test the network\n",
    "y_hat = network.forward(x_test)\n",
    "loss = rmse(y_hat, y_test)\n",
    "print(loss)"
   ]
  },
  {
   "cell_type": "code",
   "execution_count": 33,
   "metadata": {},
   "outputs": [
    {
     "data": {
      "text/plain": [
       "<matplotlib.legend.Legend at 0x1180c408be0>"
      ]
     },
     "execution_count": 33,
     "metadata": {},
     "output_type": "execute_result"
    },
    {
     "data": {
      "image/png": "[encoded data removed]",
      "text/plain": [
       "<Figure size 432x288 with 1 Axes>"
      ]
     },
     "metadata": {
      "needs_background": "light"
     },
     "output_type": "display_data"
    }
   ],
   "source": [
    "plt.plot(x_test, y_test, 'o', label='Test data')\n",
    "plt.plot(x_test, y_hat, 'o', label='Observed data')\n",
    "plt.legend()"
   ]
  },
  {
   "cell_type": "markdown",
   "metadata": {},
   "source": [
    "By doing this the learning rate could be increased with a factor 10 and we achieved the best performance yet. On top of that we can see that there is still room for further improvement if we train the algorithm for more epochs. However, let's look at another modification that we can make to improve the training process.\n",
    "\n",
    "## Momentum\n",
    "In practice we typically don't use the standard backpropagation algorithm, we use optimization algorithms that have extended upon the core backpropagation algorithm in order to make training faster and more stable.\n",
    "One such extension is called momentum. Imagine the weight and bias updates as a ball rolling down a hill. The ball shouldn't start erratically moving in different directions. It builds some momentum down the slope and it will keep some of that momentum, while changing under the influence of the changes in slope. This idea can also be applied here. By keeping track of the momentum, we can reduce erratic behavior in the subsequent gradient steps.\n",
    "\n",
    "Adding the momentum term to the layer is quite simple:\n"
   ]
  },
  {
   "cell_type": "code",
   "execution_count": 34,
   "metadata": {},
   "outputs": [],
   "source": [
    "class Dense:\n",
    "    def __init__(self, input_size, output_size):\n",
    "        \"\"\"Constructor of a single fully connected layer\n",
    "\n",
    "        Args:\n",
    "            input_size (int): number of inputs to this layer\n",
    "            output_size (int): number of neurons in this layer, which is equivalent to the number of outputs\n",
    "        \"\"\"        \n",
    "        self.input_size = input_size\n",
    "        self.output_size = output_size\n",
    "        \n",
    "        # Create our matrix with weights and biases for the layer\n",
    "        self.weights = np.random.randn(output_size, input_size)\n",
    "        self.biases = np.zeros(output_size)\n",
    "        # Momentum terms\n",
    "        self.VdW = np.zeros((output_size, input_size))\n",
    "        self.Vdb = np.zeros(output_size)\n",
    "        \n",
    "    def forward(self, inputs):\n",
    "        \"\"\"Forward pass of the layer\"\"\"\n",
    "        self.inputs = inputs\n",
    "        self.output = np.dot(self.inputs, self.weights.T) + self.biases\n",
    "        return self.output\n",
    "    \n",
    "    def update_gradients(self, gradients):\n",
    "        \"\"\"Update the gradients of the layer\"\"\"\n",
    "        self.gradients = gradients\n",
    "        \n",
    "    def optimize(self, learning_rate, beta=0.9):\n",
    "        \"\"\"Optimize the weights by taking a step in the direction of the gradients\"\"\"        \n",
    "        # Update momentum terms\n",
    "        self.VdW = beta * self.VdW + (1 - beta) * (np.dot(self.gradients.T, self.inputs) / self.input_size)\n",
    "        self.Vdb = beta * self.Vdb + (1 - beta) * np.mean(self.gradients, axis=0)\n",
    "        \n",
    "        # Update the weights and biases with the momentum\n",
    "        self.weights -= learning_rate * self.VdW\n",
    "        self.biases -= learning_rate * self.Vdb\n",
    "        "
   ]
  },
  {
   "cell_type": "code",
   "execution_count": 37,
   "metadata": {},
   "outputs": [
    {
     "name": "stdout",
     "output_type": "stream",
     "text": [
      "0.023657305880780476\n"
     ]
    },
    {
     "data": {
      "image/png": "[encoded data removed]",
      "text/plain": [
       "<Figure size 432x288 with 1 Axes>"
      ]
     },
     "metadata": {
      "needs_background": "light"
     },
     "output_type": "display_data"
    }
   ],
   "source": [
    "network = Network([Dense(1, 32), Dense(32, 32), Dense(32, 16), Dense(16, 16), Dense(16, 1)], [Sigmoid(), Sigmoid(), Sigmoid(), Sigmoid(), Tanh()], 0.0005)\n",
    "\n",
    "losses = []\n",
    "\n",
    "for epoch in range(25000):\n",
    "    # Keep track of the training batch losses\n",
    "    batch_losses = []\n",
    "    \n",
    "    # Batches should be random    \n",
    "    np.random.shuffle(train_indices)\n",
    "    \n",
    "    # Loop through the training data in minibatches of size 200\n",
    "    for batch in range(len(x_train) // 100):\n",
    "        batch_indices = train_indices[batch * 100:(batch + 1) * 100]\n",
    "        x_train_batch = x_train[batch_indices]\n",
    "        y_train_batch = y_train[batch_indices]\n",
    "        \n",
    "        y_pred_batch = network.forward(x_train_batch)\n",
    "        batch_losses.append(rmse(y_pred_batch, y_train_batch))\n",
    "        network.backward(y_pred_batch - y_train_batch)\n",
    "        network.optimize()\n",
    "    \n",
    "    losses.append(np.mean(np.array(batch_losses)))\n",
    "\n",
    "plt.plot(losses)\n",
    "plt.ylabel('RMSE')\n",
    "plt.xlabel('Epoch')\n",
    "\n",
    "# Test the network\n",
    "y_hat = network.forward(x_test)\n",
    "loss = rmse(y_hat, y_test)\n",
    "print(loss)"
   ]
  },
  {
   "cell_type": "code",
   "execution_count": 38,
   "metadata": {},
   "outputs": [
    {
     "data": {
      "text/plain": [
       "<matplotlib.legend.Legend at 0x1180947cc88>"
      ]
     },
     "execution_count": 38,
     "metadata": {},
     "output_type": "execute_result"
    },
    {
     "data": {
      "image/png": "[encoded data removed]",
      "text/plain": [
       "<Figure size 432x288 with 1 Axes>"
      ]
     },
     "metadata": {
      "needs_background": "light"
     },
     "output_type": "display_data"
    }
   ],
   "source": [
    "plt.plot(x_test, y_test, 'o', label='Test data')\n",
    "plt.plot(x_test, y_hat, 'o', label='Observed data')\n",
    "plt.legend()"
   ]
  },
  {
   "cell_type": "markdown",
   "metadata": {},
   "source": [
    "As you can see we can increase the learning rate even more, while keeping training stable. Resulting in an even better result. "
   ]
  },
  {
   "cell_type": "markdown",
   "metadata": {},
   "source": [
    "# RMS Prop & the Adam optimizer\n",
    "\n",
    "A similar modification that we can make is to reduce oscillations in weights and biases. This can be done through Root Mean Squared Propagation, which is better known as RMSProp. With this technique you keep track of an average of the squared gradient for each weight and bias. Before updating the weights and biases you simply divide the gradient by the root of this average. You can see that we can combine this quite easily with the momentum modification. This combination is basically what the Adam optimizer does."
   ]
  },
  {
   "cell_type": "code",
   "execution_count": 57,
   "metadata": {},
   "outputs": [],
   "source": [
    "class Dense:\n",
    "    def __init__(self, input_size, output_size):\n",
    "        \"\"\"Constructor of a single fully connected layer\n",
    "\n",
    "        Args:\n",
    "            input_size (int): number of inputs to this layer\n",
    "            output_size (int): number of neurons in this layer, which is equivalent to the number of outputs\n",
    "        \"\"\"        \n",
    "        self.input_size = input_size\n",
    "        self.output_size = output_size\n",
    "        \n",
    "        # Create our matrix with weights and biases for the layer\n",
    "        self.weights = np.random.randn(output_size, input_size)\n",
    "        self.biases = np.zeros(output_size)\n",
    "        # Momentum terms\n",
    "        self.VdW = np.zeros((output_size, input_size))\n",
    "        self.Vdb = np.zeros(output_size)\n",
    "        # RMSProp terms\n",
    "        self.SdW = np.zeros((output_size, input_size))\n",
    "        self.Sdb = np.zeros(output_size)\n",
    "        \n",
    "    def forward(self, inputs):\n",
    "        \"\"\"Forward pass of the layer\"\"\"\n",
    "        self.inputs = inputs\n",
    "        self.output = np.dot(self.inputs, self.weights.T) + self.biases\n",
    "        return self.output\n",
    "    \n",
    "    def update_gradients(self, gradients):\n",
    "        \"\"\"Update the gradients of the layer\"\"\"\n",
    "        self.gradients = gradients\n",
    "        \n",
    "    def optimize(self, learning_rate, beta1=0.9, beta2=0.999, epsilon=1e-8):\n",
    "        \"\"\"Optimize the weights by taking a step in the direction of the gradients\"\"\"\n",
    "        # Update terms\n",
    "        dW = np.dot(self.gradients.T, self.inputs) / self.input_size\n",
    "        db = np.mean(self.gradients, axis=0)\n",
    "                \n",
    "        # Update momentum terms\n",
    "        self.VdW = beta1 * self.VdW + (1 - beta1) * dW\n",
    "        self.Vdb = beta1 * self.Vdb + (1 - beta1) * db\n",
    "        \n",
    "        # Update the RMSProp terms\n",
    "        self.SdW = beta2 * self.SdW + (1 - beta2) * np.square(dW)\n",
    "        self.Sdb = beta2 * self.Sdb + (1 - beta2) * np.square(db)\n",
    "        \n",
    "        # Update the weights and biases with the momentum\n",
    "        self.weights -= learning_rate * (self.VdW / (np.sqrt(self.SdW) + epsilon))  \n",
    "        self.biases -= learning_rate * (self.Vdb / (np.sqrt(self.Sdb) + epsilon))"
   ]
  },
  {
   "cell_type": "code",
   "execution_count": 58,
   "metadata": {},
   "outputs": [
    {
     "name": "stderr",
     "output_type": "stream",
     "text": [
      "c:\\Users\\Niels\\AppData\\Local\\Programs\\Python\\Python36\\lib\\site-packages\\ipykernel_launcher.py:17: RuntimeWarning: overflow encountered in exp\n"
     ]
    },
    {
     "name": "stdout",
     "output_type": "stream",
     "text": [
      "0.0008782760956750425\n"
     ]
    },
    {
     "data": {
      "image/png": "[encoded data removed]",
      "text/plain": [
       "<Figure size 432x288 with 1 Axes>"
      ]
     },
     "metadata": {
      "needs_background": "light"
     },
     "output_type": "display_data"
    }
   ],
   "source": [
    "network = Network([Dense(1, 32), Dense(32, 32), Dense(32, 16), Dense(16, 16), Dense(16, 1)], [Sigmoid(), Sigmoid(), Sigmoid(), Sigmoid(), Tanh()], 0.0005)\n",
    "\n",
    "losses = []\n",
    "\n",
    "for epoch in range(25000):\n",
    "    # Keep track of the training batch losses\n",
    "    batch_losses = []\n",
    "    \n",
    "    # Batches should be random    \n",
    "    np.random.shuffle(train_indices)\n",
    "    \n",
    "    # Loop through the training data in minibatches of size 200\n",
    "    for batch in range(len(x_train) // 100):\n",
    "        batch_indices = train_indices[batch * 100:(batch + 1) * 100]\n",
    "        x_train_batch = x_train[batch_indices]\n",
    "        y_train_batch = y_train[batch_indices]\n",
    "        \n",
    "        y_pred_batch = network.forward(x_train_batch)\n",
    "        batch_losses.append(rmse(y_pred_batch, y_train_batch))\n",
    "        network.backward(y_pred_batch - y_train_batch)\n",
    "        network.optimize()\n",
    "    \n",
    "    losses.append(np.mean(np.array(batch_losses)))\n",
    "\n",
    "plt.plot(losses)\n",
    "plt.ylabel('RMSE')\n",
    "plt.xlabel('Epoch')\n",
    "\n",
    "# Test the network\n",
    "y_hat = network.forward(x_test)\n",
    "loss = rmse(y_hat, y_test)\n",
    "print(loss)"
   ]
  },
  {
   "cell_type": "code",
   "execution_count": 59,
   "metadata": {},
   "outputs": [
    {
     "data": {
      "text/plain": [
       "<matplotlib.legend.Legend at 0x1180972d7b8>"
      ]
     },
     "execution_count": 59,
     "metadata": {},
     "output_type": "execute_result"
    },
    {
     "data": {
      "image/png": "[encoded data removed]",
      "text/plain": [
       "<Figure size 432x288 with 1 Axes>"
      ]
     },
     "metadata": {
      "needs_background": "light"
     },
     "output_type": "display_data"
    }
   ],
   "source": [
    "plt.plot(x_test, y_test, 'o', label='Test data')\n",
    "plt.plot(x_test, y_hat, 'o', label='Observed data')\n",
    "plt.legend()"
   ]
  },
  {
   "cell_type": "markdown",
   "metadata": {},
   "source": [
    "And with that we achieved a near perfect performance in a very short amount of time. When looking at the training curve you can see we hit this kind of performance between 5000 and 10000 epochs. Compared to what we had at the end of the previous notebook this shows us just how powerful these small modifications can be. With the core backpropagation algorithm we needed 250k epochs to achieve an RMSE of about 0.06. And with that we have come to the end of these notebooks. I hope these were helpful to you and if you have any questions, feel free to contact me!"
   ]
  }
 ],
 "metadata": {
  "interpreter": {
   "hash": "7b03be9e07b1dc030a647a403c994d1f709ab3169abfdd5c15fecb89c5578e3a"
  },
  "kernelspec": {
   "display_name": "Python 3.6.7 64-bit",
   "language": "python",
   "name": "python3"
  },
  "language_info": {
   "codemirror_mode": {
    "name": "ipython",
    "version": 3
   },
   "file_extension": ".py",
   "mimetype": "text/x-python",
   "name": "python",
   "nbconvert_exporter": "python",
   "pygments_lexer": "ipython3",
   "version": "3.6.7"
  },
  "orig_nbformat": 4
 },
 "nbformat": 4,
 "nbformat_minor": 2
}
